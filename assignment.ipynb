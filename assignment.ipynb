{
 "cells": [
  {
   "cell_type": "code",
   "execution_count": 3,
   "metadata": {},
   "outputs": [],
   "source": [
    "import numpy as np\n",
    "\n",
    "N = 4\n",
    "Move_Reward = -1\n",
    "Value = np.zeros((N, N))\n",
    "Gamma = 1\n",
    "Threshold = 10**-4 \n",
    "#Initializations"
   ]
  },
  {
   "cell_type": "code",
   "execution_count": 4,
   "metadata": {},
   "outputs": [],
   "source": [
    "spaces = np.array([[-1, 0], [1, 0], [0, -1], [0, 1]])  # Movement directions (up, down, left, right)"
   ]
  },
  {
   "cell_type": "code",
   "execution_count": 5,
   "metadata": {},
   "outputs": [],
   "source": [
    "def get_next(i, j):\n",
    "    output = []\n",
    "    for space in spaces:\n",
    "        temp = [i + space[0], j + space[1]]  # Calculate next potential state\n",
    "        # Check if the next state is within grid bounds\n",
    "        if 0 <= temp[0] < N and 0 <= temp[1] < N:\n",
    "            output.append(temp)\n",
    "    return output"
   ]
  },
  {
   "cell_type": "markdown",
   "metadata": {},
   "source": [
    "In this approach, I only consider the next valid states when applying the Bellman equation. This avoids giving states near the boundaries an unfair disadvantage. Since we assume equal probability for all possible moves, allowing out-of-bounds moves to contribute to the expected value would artificially lower the value of edge states (due to missing contributions from invalid moves). By restricting the calculation to only valid next states, we ensure that all states are treated fairly without unintended value loss."
   ]
  },
  {
   "cell_type": "code",
   "execution_count": 6,
   "metadata": {},
   "outputs": [],
   "source": [
    "def bellman(i, j):\n",
    "    options = get_next(i, j)  # Get possible next states\n",
    "    output = 0\n",
    "    for option in options:\n",
    "        if option == [N-1, N-1]:  # Skip the terminal state (bottom-right corner)\n",
    "            continue\n",
    "            # Terminal state has reward 0 and value 0 (no update needed)\n",
    "        else:\n",
    "            # Calculate value based on valid moves (average of all possible next states)\n",
    "            output += (Move_Reward + Gamma * Value[option[0], option[1]]) / len(options)\n",
    "    return output"
   ]
  },
  {
   "cell_type": "code",
   "execution_count": 7,
   "metadata": {},
   "outputs": [
    {
     "name": "stdout",
     "output_type": "stream",
     "text": [
      "[[-43.56965659 -42.56974832 -40.21275171 -37.78431951]\n",
      " [-42.56974832 -40.92700588 -37.28433855 -33.35595231]\n",
      " [-40.21275171 -37.28433855 -30.64176871 -21.99924034]\n",
      " [-37.78431951 -33.35595231 -21.99924034   0.        ]]\n"
     ]
    }
   ],
   "source": [
    "# Initialization of temp to a large value for the loop condition\n",
    "temp = float('inf')\n",
    "while temp > Threshold:  # Continue until convergence\n",
    "    maxupdate = 0  # Track the maximum value update for convergence\n",
    "    for i in range(N):  # Loop over each state in the grid\n",
    "        for j in range(N):\n",
    "            if [i, j] == [N-1, N-1]:  # Skip the terminal state (bottom-right corner)\n",
    "                continue\n",
    "            current_value = Value[i, j]  # Store the current value of the state\n",
    "            new_value = bellman(i, j)  # Get the new value from Bellman's equation\n",
    "            maxupdate = max(maxupdate, abs(current_value - new_value))  # Track max change\n",
    "            Value[i, j] = new_value  # Update the value grid with the new value for the state\n",
    "    temp = maxupdate  # Update temp to the maximum change to check for convergence\n",
    "\n",
    "print(Value)"
   ]
  },
  {
   "cell_type": "markdown",
   "metadata": {},
   "source": []
  }
 ],
 "metadata": {
  "kernelspec": {
   "display_name": "Python 3",
   "language": "python",
   "name": "python3"
  },
  "language_info": {
   "codemirror_mode": {
    "name": "ipython",
    "version": 3
   },
   "file_extension": ".py",
   "mimetype": "text/x-python",
   "name": "python",
   "nbconvert_exporter": "python",
   "pygments_lexer": "ipython3",
   "version": "3.13.1"
  }
 },
 "nbformat": 4,
 "nbformat_minor": 2
}
